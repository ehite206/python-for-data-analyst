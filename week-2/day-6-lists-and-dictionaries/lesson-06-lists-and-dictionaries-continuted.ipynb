{
 "cells": [
  {
   "cell_type": "markdown",
   "metadata": {},
   "source": [
    "### Yummy... Ethiopian Vegi Combination Platter. aka Yetsom Beyaynetu\n",
    "<img src=\"images/Ethiopian-vegi-combo.png\" style=\"width:1000px;height:550px\"/>\n",
    "<!-- ![](images/Ethiopian-vegi-combo.png) -->"
   ]
  },
  {
   "cell_type": "markdown",
   "metadata": {},
   "source": [
    "#### Ethiopian vegi combo can be multiple ingredients and choices\n",
    "\n",
    "We want to write a script that can combine everyone's vegi como platter into one data collection and print each item for the restaurant. \n",
    "\n",
    "##### Variable assignment\n",
    "\n",
    "let's start with our first six platter:\n",
    "```python\n",
    "1. \"Shiro Wat\"\n",
    "2. \"Miser Wat\"\n",
    "3. \"Kik Alicha\"\n",
    "4. \"Gomen\"\n",
    "5. \"Dinich ena Carrot Alicha\"\n",
    "6. \"Key Sire Alicha\"\n",
    "7. \"Fossolia\"\n",
    "8. \"Timatim Salata\"\n",
    "9. \"Ethiopian Injera\"\n",
    "10. \"Injera\"\n",
    "```"
   ]
  },
  {
   "cell_type": "markdown",
   "metadata": {},
   "source": [
    "Two Ethiopian buddies are catching up after a long time and they decided to go for vegi combo. They sat in the corner of the restaurant and they ordered a six platter."
   ]
  },
  {
   "cell_type": "code",
   "execution_count": 109,
   "metadata": {},
   "outputs": [
    {
     "data": {
      "text/plain": [
       "['Shiro Wat',\n",
       " 'Miser Wat',\n",
       " 'Kik Alicha',\n",
       " 'Gomen',\n",
       " 'Key Sire Alicha',\n",
       " 'Timatim Salata',\n",
       " 'Injera']"
      ]
     },
     "execution_count": 109,
     "metadata": {},
     "output_type": "execute_result"
    }
   ],
   "source": [
    "six_platter = [\"Shiro Wat\", \"Miser Wat\", \"Kik Alicha\", \"Gomen\", \"Key Sire Alicha\", \"Timatim Salata\", \"Injera\"]\n",
    "six_platter"
   ]
  },
  {
   "cell_type": "markdown",
   "metadata": {},
   "source": [
    "A humble waitress asked them if they wanted anything else. They told her they wanted `\"Seneg\"`. Let's add it "
   ]
  },
  {
   "cell_type": "code",
   "execution_count": 110,
   "metadata": {},
   "outputs": [
    {
     "data": {
      "text/plain": [
       "['Shiro Wat',\n",
       " 'Miser Wat',\n",
       " 'Kik Alicha',\n",
       " 'Gomen',\n",
       " 'Key Sire Alicha',\n",
       " 'Timatim Salata',\n",
       " 'Injera',\n",
       " 'Karya Seneg']"
      ]
     },
     "execution_count": 110,
     "metadata": {},
     "output_type": "execute_result"
    }
   ],
   "source": [
    "six_platter.append(\"Karya Seneg\")\n",
    "six_platter"
   ]
  },
  {
   "cell_type": "code",
   "execution_count": 111,
   "metadata": {},
   "outputs": [
    {
     "data": {
      "text/plain": [
       "['Shiro Wat',\n",
       " 'Awaze',\n",
       " 'Miser Wat',\n",
       " 'Kik Alicha',\n",
       " 'Gomen',\n",
       " 'Key Sire Alicha',\n",
       " 'Timatim Salata',\n",
       " 'Injera',\n",
       " 'Karya Seneg']"
      ]
     },
     "execution_count": 111,
     "metadata": {},
     "output_type": "execute_result"
    }
   ],
   "source": [
    "# or we can insert at paricular index \n",
    "six_platter.insert(1,\"Awaze\")\n",
    "six_platter"
   ]
  },
  {
   "cell_type": "code",
   "execution_count": 112,
   "metadata": {},
   "outputs": [
    {
     "ename": "ValueError",
     "evalue": "list.remove(x): x not in list",
     "output_type": "error",
     "traceback": [
      "\u001b[0;31m---------------------------------------------------------------------------\u001b[0m",
      "\u001b[0;31mValueError\u001b[0m                                Traceback (most recent call last)",
      "\u001b[0;32m/var/folders/q4/y7xqp5c55f3c58vcqh3nb1q80000gn/T/ipykernel_43012/1959661463.py\u001b[0m in \u001b[0;36m<module>\u001b[0;34m\u001b[0m\n\u001b[0;32m----> 1\u001b[0;31m \u001b[0msix_platter\u001b[0m\u001b[0;34m.\u001b[0m\u001b[0mremove\u001b[0m\u001b[0;34m(\u001b[0m\u001b[0;34m'object'\u001b[0m\u001b[0;34m)\u001b[0m\u001b[0;34m\u001b[0m\u001b[0;34m\u001b[0m\u001b[0m\n\u001b[0m\u001b[1;32m      2\u001b[0m \u001b[0msix_platter\u001b[0m\u001b[0;34m\u001b[0m\u001b[0;34m\u001b[0m\u001b[0m\n",
      "\u001b[0;31mValueError\u001b[0m: list.remove(x): x not in list"
     ]
    }
   ],
   "source": [
    "six_platter.remove('object')\n",
    "six_platter"
   ]
  },
  {
   "cell_type": "code",
   "execution_count": 113,
   "metadata": {},
   "outputs": [
    {
     "data": {
      "text/plain": [
       "9"
      ]
     },
     "execution_count": 113,
     "metadata": {},
     "output_type": "execute_result"
    }
   ],
   "source": [
    "len(six_platter)"
   ]
  },
  {
   "cell_type": "markdown",
   "metadata": {},
   "source": [
    "As the waiterss turn around and start heading to the kitchen, one of their good buddies called and asked where they at. They told me they are about to order a vegi combo. He asked them to upgrade it to a ten platter. "
   ]
  },
  {
   "cell_type": "code",
   "execution_count": 114,
   "metadata": {},
   "outputs": [
    {
     "data": {
      "text/plain": [
       "['Shiro Wat',\n",
       " 'Awaze',\n",
       " 'Miser Wat',\n",
       " 'Kik Alicha',\n",
       " 'Gomen',\n",
       " 'Key Sire Alicha',\n",
       " 'Timatim Salata',\n",
       " 'Injera',\n",
       " 'Karya Seneg',\n",
       " 'Fosolia',\n",
       " 'Dinich ena Carrot Alicha',\n",
       " 'Shiro Firfir',\n",
       " 'Timatim Salata']"
      ]
     },
     "execution_count": 114,
     "metadata": {},
     "output_type": "execute_result"
    }
   ],
   "source": [
    "six_platter.extend([\"Fosolia\",\"Dinich ena Carrot Alicha\",\"Shiro Firfir\",\"Timatim Salata\"])\n",
    "ten_platter = six_platter\n",
    "ten_platter"
   ]
  },
  {
   "cell_type": "markdown",
   "metadata": {},
   "source": [
    "opps they forgot to order the lunch with `\"Ethiopian Ingera\"`. Let's substitute it now."
   ]
  },
  {
   "cell_type": "code",
   "execution_count": 115,
   "metadata": {},
   "outputs": [
    {
     "data": {
      "text/plain": [
       "7"
      ]
     },
     "execution_count": 115,
     "metadata": {},
     "output_type": "execute_result"
    }
   ],
   "source": [
    "i = ten_platter.index('Injera')\n",
    "i\n",
    "# ten_platter.remove(\"Injera\")\n",
    "# ten_platter= list(map(lambda x: x.replace('Injera', \"Ethiopian Ingera\"), ten_platter))\n",
    "# ten_platter= list(map(lambda x: x.upper(), ten_platter))\n"
   ]
  },
  {
   "cell_type": "code",
   "execution_count": 116,
   "metadata": {},
   "outputs": [],
   "source": [
    "# i = ten_platter.index('Shiro Firfir')\n",
    "# i"
   ]
  },
  {
   "cell_type": "code",
   "execution_count": 117,
   "metadata": {},
   "outputs": [
    {
     "data": {
      "text/plain": [
       "['Shiro Wat',\n",
       " 'Awaze',\n",
       " 'Miser Wat',\n",
       " 'Kik Alicha',\n",
       " 'Gomen',\n",
       " 'Key Sire Alicha',\n",
       " 'Timatim Salata',\n",
       " 'Ethiopian Ingera',\n",
       " 'Karya Seneg',\n",
       " 'Fosolia',\n",
       " 'Dinich ena Carrot Alicha',\n",
       " 'Shiro Firfir',\n",
       " 'Timatim Salata']"
      ]
     },
     "execution_count": 117,
     "metadata": {},
     "output_type": "execute_result"
    }
   ],
   "source": [
    "ten_platter[i] = \"Ethiopian Ingera\"\n",
    "# ten_platter[7] = \"Ethiopian Ingera\"\n",
    "# ten_platter.append(\"Ethiopian Ingera\")\n",
    "ten_platter"
   ]
  },
  {
   "cell_type": "markdown",
   "metadata": {},
   "source": [
    "Let's sort our order "
   ]
  },
  {
   "cell_type": "code",
   "execution_count": 118,
   "metadata": {},
   "outputs": [
    {
     "data": {
      "text/plain": [
       "['Awaze',\n",
       " 'Dinich ena Carrot Alicha',\n",
       " 'Ethiopian Ingera',\n",
       " 'Fosolia',\n",
       " 'Gomen',\n",
       " 'Karya Seneg',\n",
       " 'Key Sire Alicha',\n",
       " 'Kik Alicha',\n",
       " 'Miser Wat',\n",
       " 'Shiro Firfir',\n",
       " 'Shiro Wat',\n",
       " 'Timatim Salata',\n",
       " 'Timatim Salata']"
      ]
     },
     "execution_count": 118,
     "metadata": {},
     "output_type": "execute_result"
    }
   ],
   "source": [
    "ten_platter.sort()\n",
    "# ten_platter.pop('Gomen')"
   ]
  },
  {
   "cell_type": "code",
   "execution_count": 127,
   "metadata": {},
   "outputs": [
    {
     "data": {
      "text/plain": [
       "[]"
      ]
     },
     "execution_count": 127,
     "metadata": {},
     "output_type": "execute_result"
    }
   ],
   "source": [
    "# [ten_platter[:i] for i in range(i, len(ten_platter[::2]))]"
   ]
  },
  {
   "cell_type": "code",
   "execution_count": 27,
   "metadata": {},
   "outputs": [
    {
     "data": {
      "text/plain": [
       "['Awaze',\n",
       " 'Dinich ena Carrot Alicha',\n",
       " 'Ethiopian Ingera',\n",
       " 'Fosolia',\n",
       " 'Gomen',\n",
       " 'Karya Seneg',\n",
       " 'Key Sire Alicha',\n",
       " 'Kik Alicha',\n",
       " 'Miser Wat',\n",
       " 'Shiro Firfir',\n",
       " 'Shiro Wat',\n",
       " 'Timatim Salata']"
      ]
     },
     "execution_count": 27,
     "metadata": {},
     "output_type": "execute_result"
    }
   ],
   "source": [
    "ten_platter.pop()\n",
    "ten_platter"
   ]
  },
  {
   "cell_type": "code",
   "execution_count": 28,
   "metadata": {},
   "outputs": [
    {
     "data": {
      "text/plain": [
       "['Awaze',\n",
       " 'Dinich ena Carrot Alicha',\n",
       " 'Ethiopian Ingera',\n",
       " 'Fosolia',\n",
       " 'Gomen',\n",
       " 'Karya Seneg',\n",
       " 'Key Sire Alicha',\n",
       " 'Kik Alicha',\n",
       " 'Miser Wat',\n",
       " 'Shiro Wat',\n",
       " 'Timatim Salata']"
      ]
     },
     "execution_count": 28,
     "metadata": {},
     "output_type": "execute_result"
    }
   ],
   "source": [
    "ten_platter.remove(\"Shiro Firfir\")\n",
    "ten_platter"
   ]
  },
  {
   "cell_type": "code",
   "execution_count": 29,
   "metadata": {},
   "outputs": [
    {
     "data": {
      "text/plain": [
       "11"
      ]
     },
     "execution_count": 29,
     "metadata": {},
     "output_type": "execute_result"
    }
   ],
   "source": [
    "len(ten_platter)"
   ]
  },
  {
   "cell_type": "markdown",
   "metadata": {},
   "source": [
    "Let's do some more indexing"
   ]
  },
  {
   "cell_type": "code",
   "execution_count": 30,
   "metadata": {},
   "outputs": [
    {
     "data": {
      "text/plain": [
       "'Ethiopian Ingera'"
      ]
     },
     "execution_count": 30,
     "metadata": {},
     "output_type": "execute_result"
    }
   ],
   "source": [
    "ten_platter[2]"
   ]
  },
  {
   "cell_type": "markdown",
   "metadata": {},
   "source": [
    "okay... now let us build our favorite choises"
   ]
  },
  {
   "cell_type": "code",
   "execution_count": 31,
   "metadata": {},
   "outputs": [
    {
     "data": {
      "text/plain": [
       "['Dinich ena Carrot Alicha', 'Fosolia', 'Shiro Wat']"
      ]
     },
     "execution_count": 31,
     "metadata": {},
     "output_type": "execute_result"
    }
   ],
   "source": [
    "my_choices = list([ten_platter[1],ten_platter[3],ten_platter[-2]])\n",
    "my_choices"
   ]
  },
  {
   "cell_type": "code",
   "execution_count": 32,
   "metadata": {},
   "outputs": [
    {
     "data": {
      "text/plain": [
       "'My favorite choices are: Dinich ena Carrot Alicha, Fosolia, and Shiro Wat.'"
      ]
     },
     "execution_count": 32,
     "metadata": {},
     "output_type": "execute_result"
    }
   ],
   "source": [
    "my_favorite = (\"My favorite choices are: \" + \n",
    "    \", \".join(my_choices[:-1]) + \n",
    "    \", and \" + my_choices[-1] + '.')\n",
    "my_favorite"
   ]
  },
  {
   "cell_type": "markdown",
   "metadata": {},
   "source": [
    "returning results by skiping two from the list "
   ]
  },
  {
   "cell_type": "code",
   "execution_count": 39,
   "metadata": {},
   "outputs": [
    {
     "data": {
      "text/plain": [
       "['Awaze', 'Karya Seneg', 'Timatim Salata']"
      ]
     },
     "execution_count": 39,
     "metadata": {},
     "output_type": "execute_result"
    }
   ],
   "source": [
    "ten_platter[::5]"
   ]
  },
  {
   "cell_type": "code",
   "execution_count": 108,
   "metadata": {},
   "outputs": [
    {
     "ename": "NameError",
     "evalue": "name 'ten_platter' is not defined",
     "output_type": "error",
     "traceback": [
      "\u001b[0;31m---------------------------------------------------------------------------\u001b[0m",
      "\u001b[0;31mNameError\u001b[0m                                 Traceback (most recent call last)",
      "\u001b[0;32m/var/folders/q4/y7xqp5c55f3c58vcqh3nb1q80000gn/T/ipykernel_43012/2532157373.py\u001b[0m in \u001b[0;36m<module>\u001b[0;34m\u001b[0m\n\u001b[0;32m----> 1\u001b[0;31m \u001b[0mten_platter\u001b[0m\u001b[0;34m\u001b[0m\u001b[0;34m\u001b[0m\u001b[0m\n\u001b[0m",
      "\u001b[0;31mNameError\u001b[0m: name 'ten_platter' is not defined"
     ]
    }
   ],
   "source": [
    "ten_platter"
   ]
  },
  {
   "cell_type": "code",
   "execution_count": null,
   "metadata": {},
   "outputs": [],
   "source": []
  },
  {
   "cell_type": "markdown",
   "metadata": {},
   "source": [
    "## Breakout \n",
    "############# START ##############"
   ]
  },
  {
   "cell_type": "code",
   "execution_count": null,
   "metadata": {},
   "outputs": [],
   "source": [
    "# create your one three list of favorit items and return your result as \n",
    "# 'My favorite choices are: Dinich ena Carrot Alicha, Fosolia, and Shiro Wat.'b"
   ]
  },
  {
   "cell_type": "code",
   "execution_count": null,
   "metadata": {},
   "outputs": [],
   "source": []
  },
  {
   "cell_type": "markdown",
   "metadata": {},
   "source": [
    "############# STOP ##############"
   ]
  },
  {
   "cell_type": "code",
   "execution_count": 43,
   "metadata": {},
   "outputs": [
    {
     "data": {
      "text/plain": [
       "[]"
      ]
     },
     "execution_count": 43,
     "metadata": {},
     "output_type": "execute_result"
    }
   ],
   "source": [
    "ten_platter.clear()\n",
    "ten_platter"
   ]
  },
  {
   "cell_type": "code",
   "execution_count": 44,
   "metadata": {},
   "outputs": [],
   "source": [
    "del ten_platter"
   ]
  },
  {
   "cell_type": "code",
   "execution_count": 45,
   "metadata": {},
   "outputs": [
    {
     "ename": "NameError",
     "evalue": "name 'ten_platter' is not defined",
     "output_type": "error",
     "traceback": [
      "\u001b[0;31m---------------------------------------------------------------------------\u001b[0m",
      "\u001b[0;31mNameError\u001b[0m                                 Traceback (most recent call last)",
      "\u001b[0;32m/var/folders/q4/y7xqp5c55f3c58vcqh3nb1q80000gn/T/ipykernel_43012/2532157373.py\u001b[0m in \u001b[0;36m<module>\u001b[0;34m\u001b[0m\n\u001b[0;32m----> 1\u001b[0;31m \u001b[0mten_platter\u001b[0m\u001b[0;34m\u001b[0m\u001b[0;34m\u001b[0m\u001b[0m\n\u001b[0m",
      "\u001b[0;31mNameError\u001b[0m: name 'ten_platter' is not defined"
     ]
    }
   ],
   "source": [
    "ten_platter"
   ]
  },
  {
   "cell_type": "markdown",
   "metadata": {},
   "source": [
    "## Dictionaries"
   ]
  },
  {
   "cell_type": "markdown",
   "metadata": {},
   "source": [
    "Dictionaries let you assign **key** and **value** pairs. \n",
    "\n",
    "Rather than using **indexing** you use **keys** to return values.\n",
    "\n",
    "```python\n",
    "vegi_combo_dict = {'ingredient1': 'Shiro Wat', 'ingredient2': 'Miser Wat', 'ingredient3': 'Key Sire Alicha'}\n",
    "```\n",
    "To get an element in the dictionary:\n",
    "```python\n",
    "print(vegi_combo_dict['ingredient2'])\n",
    "```\n",
    "\n",
    "Update your vegi_combo_dict to be a dictionary. Make sure to run `type()` on your dictionary to confirm it is successful."
   ]
  },
  {
   "cell_type": "markdown",
   "metadata": {},
   "source": [
    "Strings can contain numbers as well. It may look like 42, but it if it wrapped with `'42'`, then it is a string. See the difference below."
   ]
  },
  {
   "cell_type": "code",
   "execution_count": 46,
   "metadata": {},
   "outputs": [],
   "source": [
    "vegi_combo_dict = {'ingredient1': 'Shiro Wat', \n",
    "                    'ingredient2': 'Miser Wat', \n",
    "                    'ingredient3': 'Key Sire Alicha'}"
   ]
  },
  {
   "cell_type": "code",
   "execution_count": 52,
   "metadata": {},
   "outputs": [
    {
     "name": "stdout",
     "output_type": "stream",
     "text": [
      "ingredient1 : Shiro Wat\n",
      "ingredient2 : Miser Wat\n",
      "ingredient3 : Key Sire Alicha\n"
     ]
    }
   ],
   "source": [
    "# for i,j in vegi_combo_dict.items():\n",
    "#     print(f'{i} : {j}')"
   ]
  },
  {
   "cell_type": "code",
   "execution_count": 53,
   "metadata": {},
   "outputs": [],
   "source": [
    "# dict_name[key] = value\n",
    "vegi_combo_dict['ingredient4'] = 'Fosolia'"
   ]
  },
  {
   "cell_type": "code",
   "execution_count": 54,
   "metadata": {},
   "outputs": [
    {
     "data": {
      "text/plain": [
       "{'ingredient1': 'Shiro Wat',\n",
       " 'ingredient2': 'Miser Wat',\n",
       " 'ingredient3': 'Key Sire Alicha',\n",
       " 'ingredient4': 'Fosolia'}"
      ]
     },
     "execution_count": 54,
     "metadata": {},
     "output_type": "execute_result"
    }
   ],
   "source": [
    "vegi_combo_dict"
   ]
  },
  {
   "cell_type": "code",
   "execution_count": 55,
   "metadata": {},
   "outputs": [
    {
     "data": {
      "text/plain": [
       "{'ingredient1': 'Shiro Wat',\n",
       " 'ingredient2': 'Miser Wat',\n",
       " 'ingredient3': 'Key Sire Alicha',\n",
       " 'ingredient4': 'Fosolia',\n",
       " 'ingredients': ['1', '2', '3']}"
      ]
     },
     "execution_count": 55,
     "metadata": {},
     "output_type": "execute_result"
    }
   ],
   "source": [
    "vegi_combo_dict['ingredients'] = ['1','2','3']\n",
    "vegi_combo_dict"
   ]
  },
  {
   "cell_type": "markdown",
   "metadata": {},
   "source": [
    "Now, to make it even better, you can nest **DICTIONARIES** INSIDE of **LISTS**\n",
    "\n",
    "```python\n",
    "group_lunch = [\n",
    "    {'ingredient1': 'Shiro Wat', 'ingredient2': 'Miser Wat', 'ingredient3': 'Dinich ena Carrot Alicha'}\n",
    "    {'ingredient1': 'Fosolia', 'ingredient2': 'Atkilt Wot', 'ingredient3': 'Gomen'}\n",
    "    {'ingredient1': 'Key Sire Alicha', 'ingredient2': 'Kik Alicha', 'ingredient3': 'Shiro Firfir'}\n",
    "]\n",
    "```\n",
    "\n",
    "try calling elements of group lunch and see what you get!"
   ]
  },
  {
   "cell_type": "code",
   "execution_count": 56,
   "metadata": {},
   "outputs": [],
   "source": [
    "group_lunch = [\n",
    "    {'ingredient1': 'Shiro Wat', 'ingredient2': 'Miser Wat', 'ingredient3': 'Dinich ena Carrot Alicha'},\n",
    "    {'ingredient1': 'Fosolia', 'ingredient2': 'Atkilt Wat', 'ingredient3': 'Gomen'},\n",
    "    {'ingredient1': 'Key Sire Alicha', 'ingredient2': 'Kik Alicha', 'ingredient3': 'Shiro Firfir'}\n",
    "]"
   ]
  },
  {
   "cell_type": "code",
   "execution_count": 57,
   "metadata": {},
   "outputs": [
    {
     "data": {
      "text/plain": [
       "3"
      ]
     },
     "execution_count": 57,
     "metadata": {},
     "output_type": "execute_result"
    }
   ],
   "source": [
    "len(group_lunch)"
   ]
  },
  {
   "cell_type": "code",
   "execution_count": 63,
   "metadata": {},
   "outputs": [
    {
     "data": {
      "text/plain": [
       "'Alicha'"
      ]
     },
     "execution_count": 63,
     "metadata": {},
     "output_type": "execute_result"
    }
   ],
   "source": [
    "group_lunch[2]['ingredient2'].split(' ')[-1]"
   ]
  },
  {
   "cell_type": "code",
   "execution_count": 64,
   "metadata": {},
   "outputs": [
    {
     "data": {
      "text/plain": [
       "{'ingredient1': 'Key Sire Alicha',\n",
       " 'ingredient2': 'Kik Alicha',\n",
       " 'ingredient3': 'Shiro Firfir'}"
      ]
     },
     "execution_count": 64,
     "metadata": {},
     "output_type": "execute_result"
    }
   ],
   "source": [
    "group_lunch[2]"
   ]
  },
  {
   "cell_type": "code",
   "execution_count": 7,
   "metadata": {},
   "outputs": [
    {
     "data": {
      "text/plain": [
       "'Kik Alicha'"
      ]
     },
     "execution_count": 7,
     "metadata": {},
     "output_type": "execute_result"
    }
   ],
   "source": [
    "group_lunch[2]['ingredient2']"
   ]
  },
  {
   "cell_type": "code",
   "execution_count": 65,
   "metadata": {},
   "outputs": [
    {
     "name": "stdout",
     "output_type": "stream",
     "text": [
      "Dinich ena Carrot Alicha\n",
      "Gomen\n",
      "Shiro Firfir\n"
     ]
    }
   ],
   "source": [
    "for lunch in group_lunch:\n",
    "    print(lunch['ingredient3'])"
   ]
  },
  {
   "cell_type": "code",
   "execution_count": 66,
   "metadata": {},
   "outputs": [
    {
     "data": {
      "text/plain": [
       "{'ingredient1': 'Shiro Wat',\n",
       " 'ingredient2': 'Miser Wat',\n",
       " 'ingredient3': 'Key Sire Alicha',\n",
       " 'ingredient4': 'Fosolia',\n",
       " 'ingredients': ['1', '2', '3']}"
      ]
     },
     "execution_count": 66,
     "metadata": {},
     "output_type": "execute_result"
    }
   ],
   "source": [
    "vegi_combo_dict"
   ]
  },
  {
   "cell_type": "markdown",
   "metadata": {},
   "source": [
    "replacing the dictionary key"
   ]
  },
  {
   "cell_type": "code",
   "execution_count": 67,
   "metadata": {},
   "outputs": [
    {
     "data": {
      "text/plain": [
       "{'ingredient1': 'Shiro Wat',\n",
       " 'ingredient2': 'Miser Wat',\n",
       " 'ingredient3': 'Key Sire Alicha',\n",
       " 'ingredient4': 'Fosolia',\n",
       " 'ingredients': ['1', '2', '3']}"
      ]
     },
     "execution_count": 67,
     "metadata": {},
     "output_type": "execute_result"
    }
   ],
   "source": [
    "temp = vegi_combo_dict.copy()\n",
    "temp"
   ]
  },
  {
   "cell_type": "code",
   "execution_count": 70,
   "metadata": {},
   "outputs": [
    {
     "ename": "RuntimeError",
     "evalue": "dictionary keys changed during iteration",
     "output_type": "error",
     "traceback": [
      "\u001b[0;31m---------------------------------------------------------------------------\u001b[0m",
      "\u001b[0;31mRuntimeError\u001b[0m                              Traceback (most recent call last)",
      "\u001b[0;32m/var/folders/q4/y7xqp5c55f3c58vcqh3nb1q80000gn/T/ipykernel_43012/3821463111.py\u001b[0m in \u001b[0;36m<module>\u001b[0;34m\u001b[0m\n\u001b[0;32m----> 1\u001b[0;31m \u001b[0;32mfor\u001b[0m \u001b[0mi\u001b[0m\u001b[0;34m,\u001b[0m \u001b[0;34m(\u001b[0m\u001b[0mkey\u001b[0m\u001b[0;34m,\u001b[0m \u001b[0mvalue\u001b[0m\u001b[0;34m)\u001b[0m \u001b[0;32min\u001b[0m \u001b[0menumerate\u001b[0m\u001b[0;34m(\u001b[0m\u001b[0mtemp\u001b[0m\u001b[0;34m.\u001b[0m\u001b[0mitems\u001b[0m\u001b[0;34m(\u001b[0m\u001b[0;34m)\u001b[0m\u001b[0;34m)\u001b[0m\u001b[0;34m:\u001b[0m\u001b[0;34m\u001b[0m\u001b[0;34m\u001b[0m\u001b[0m\n\u001b[0m\u001b[1;32m      2\u001b[0m     \u001b[0mindex\u001b[0m \u001b[0;34m=\u001b[0m \u001b[0;34m'index_'\u001b[0m \u001b[0;34m+\u001b[0m \u001b[0mstr\u001b[0m\u001b[0;34m(\u001b[0m\u001b[0mi\u001b[0m\u001b[0;34m)\u001b[0m\u001b[0;34m\u001b[0m\u001b[0;34m\u001b[0m\u001b[0m\n\u001b[1;32m      3\u001b[0m     \u001b[0mtemp\u001b[0m\u001b[0;34m[\u001b[0m\u001b[0mindex\u001b[0m\u001b[0;34m]\u001b[0m \u001b[0;34m=\u001b[0m \u001b[0mtemp\u001b[0m\u001b[0;34m.\u001b[0m\u001b[0mpop\u001b[0m\u001b[0;34m(\u001b[0m\u001b[0mkey\u001b[0m\u001b[0;34m)\u001b[0m\u001b[0;34m\u001b[0m\u001b[0;34m\u001b[0m\u001b[0m\n\u001b[1;32m      4\u001b[0m     \u001b[0;31m# print(i, key, value)/\u001b[0m\u001b[0;34m\u001b[0m\u001b[0;34m\u001b[0m\u001b[0m\n",
      "\u001b[0;31mRuntimeError\u001b[0m: dictionary keys changed during iteration"
     ]
    }
   ],
   "source": [
    "for i, (key, value) in enumerate(temp.items()):\n",
    "    index = 'index_' + str(i)\n",
    "    temp[index] = temp.pop(key)\n",
    "    # print(i, key, value)/"
   ]
  },
  {
   "cell_type": "code",
   "execution_count": 11,
   "metadata": {},
   "outputs": [
    {
     "data": {
      "text/plain": [
       "{'ingredient2': 'Miser Wat',\n",
       " 'index_1': 'Key Sire Alicha',\n",
       " 'index_2': 'Fosolia',\n",
       " 'index_3': ['1', '2', '3'],\n",
       " 'index_4': 'Shiro Wat'}"
      ]
     },
     "execution_count": 11,
     "metadata": {},
     "output_type": "execute_result"
    }
   ],
   "source": [
    "temp"
   ]
  },
  {
   "cell_type": "markdown",
   "metadata": {},
   "source": [
    "<!-- ![](images/python-error.png) -->\n",
    "<img src=\"images/python-error.png\" style=\"width:700px;height:550px\"/>"
   ]
  },
  {
   "cell_type": "code",
   "execution_count": 71,
   "metadata": {},
   "outputs": [],
   "source": [
    "for i, (key, value) in enumerate(list(temp.items())):\n",
    "    index = 'index_' + str(i)\n",
    "    temp[index] = temp.pop(key)"
   ]
  },
  {
   "cell_type": "code",
   "execution_count": 75,
   "metadata": {},
   "outputs": [
    {
     "data": {
      "text/plain": [
       "{'index_0': 'Miser Wat',\n",
       " 'index_1': 'Key Sire Alicha',\n",
       " 'index_2': 'Fosolia',\n",
       " 'index_3': ['1', '2', '3'],\n",
       " 'index_4': 'Shiro Wat'}"
      ]
     },
     "execution_count": 75,
     "metadata": {},
     "output_type": "execute_result"
    }
   ],
   "source": [
    "temp\n",
    "# dict[key] = value\n",
    "# dict['index_0'] = 'Miser Wat'\n",
    "# dict['index_1'] = 'Key Sire Alicha'\n",
    "# dict['index_2'] = 'Fosolia'\n",
    "# dict['index_3'] = 'Miser Wat'"
   ]
  },
  {
   "cell_type": "code",
   "execution_count": 76,
   "metadata": {},
   "outputs": [],
   "source": [
    "temp['index_0'] = 'class 2020'"
   ]
  },
  {
   "cell_type": "code",
   "execution_count": 77,
   "metadata": {},
   "outputs": [
    {
     "data": {
      "text/plain": [
       "{'index_0': 'class 2020',\n",
       " 'index_1': 'Key Sire Alicha',\n",
       " 'index_2': 'Fosolia',\n",
       " 'index_3': ['1', '2', '3'],\n",
       " 'index_4': 'Shiro Wat'}"
      ]
     },
     "execution_count": 77,
     "metadata": {},
     "output_type": "execute_result"
    }
   ],
   "source": [
    "temp"
   ]
  },
  {
   "cell_type": "code",
   "execution_count": 93,
   "metadata": {},
   "outputs": [],
   "source": [
    "example = {\n",
    "    'cust_1' : {'add': '123'},\n",
    "    'cust_2': {'add': 'jurf'}\n",
    "\n",
    "}"
   ]
  },
  {
   "cell_type": "code",
   "execution_count": 97,
   "metadata": {},
   "outputs": [],
   "source": [
    "example['id'] = example['cust_1']"
   ]
  },
  {
   "cell_type": "code",
   "execution_count": 99,
   "metadata": {},
   "outputs": [],
   "source": [
    "del example['cust_1']"
   ]
  },
  {
   "cell_type": "code",
   "execution_count": 100,
   "metadata": {},
   "outputs": [
    {
     "data": {
      "text/plain": [
       "{'cust_2': {'add': 'jurf'}, 'id': {'add': '123'}}"
      ]
     },
     "execution_count": 100,
     "metadata": {},
     "output_type": "execute_result"
    }
   ],
   "source": [
    "example"
   ]
  },
  {
   "cell_type": "code",
   "execution_count": 89,
   "metadata": {},
   "outputs": [
    {
     "data": {
      "text/plain": [
       "['cust_ 1', 'cust_2']"
      ]
     },
     "execution_count": 89,
     "metadata": {},
     "output_type": "execute_result"
    }
   ],
   "source": [
    "list(example.keys())"
   ]
  },
  {
   "cell_type": "code",
   "execution_count": 73,
   "metadata": {},
   "outputs": [
    {
     "data": {
      "text/plain": [
       "{'ingredient1': 'Shiro Wat',\n",
       " 'ingredient2': 'Miser Wat',\n",
       " 'ingredient3': 'Key Sire Alicha',\n",
       " 'ingredient4': 'Fosolia',\n",
       " 'ingredients': ['1', '2', '3']}"
      ]
     },
     "execution_count": 73,
     "metadata": {},
     "output_type": "execute_result"
    }
   ],
   "source": [
    "vegi_combo_dict"
   ]
  },
  {
   "cell_type": "code",
   "execution_count": 102,
   "metadata": {},
   "outputs": [],
   "source": [
    "import pandas as pd"
   ]
  },
  {
   "cell_type": "code",
   "execution_count": 151,
   "metadata": {},
   "outputs": [
    {
     "data": {
      "text/html": [
       "<div>\n",
       "<style scoped>\n",
       "    .dataframe tbody tr th:only-of-type {\n",
       "        vertical-align: middle;\n",
       "    }\n",
       "\n",
       "    .dataframe tbody tr th {\n",
       "        vertical-align: top;\n",
       "    }\n",
       "\n",
       "    .dataframe thead th {\n",
       "        text-align: right;\n",
       "    }\n",
       "</style>\n",
       "<table border=\"1\" class=\"dataframe\">\n",
       "  <thead>\n",
       "    <tr style=\"text-align: right;\">\n",
       "      <th></th>\n",
       "      <th>0</th>\n",
       "    </tr>\n",
       "  </thead>\n",
       "  <tbody>\n",
       "    <tr>\n",
       "      <th>ingredient1</th>\n",
       "      <td>Shiro Wat</td>\n",
       "    </tr>\n",
       "    <tr>\n",
       "      <th>ingredient2</th>\n",
       "      <td>Miser Wat</td>\n",
       "    </tr>\n",
       "    <tr>\n",
       "      <th>ingredient3</th>\n",
       "      <td>Key Sire Alicha</td>\n",
       "    </tr>\n",
       "    <tr>\n",
       "      <th>ingredient4</th>\n",
       "      <td>Fosolia</td>\n",
       "    </tr>\n",
       "    <tr>\n",
       "      <th>ingredients</th>\n",
       "      <td>[1, 2, 3]</td>\n",
       "    </tr>\n",
       "  </tbody>\n",
       "</table>\n",
       "</div>"
      ],
      "text/plain": [
       "                           0\n",
       "ingredient1        Shiro Wat\n",
       "ingredient2        Miser Wat\n",
       "ingredient3  Key Sire Alicha\n",
       "ingredient4          Fosolia\n",
       "ingredients        [1, 2, 3]"
      ]
     },
     "execution_count": 151,
     "metadata": {},
     "output_type": "execute_result"
    }
   ],
   "source": [
    "df = pd.DataFrame.from_dict(vegi_combo_dict, orient='index')\n",
    "df "
   ]
  },
  {
   "cell_type": "code",
   "execution_count": 106,
   "metadata": {},
   "outputs": [
    {
     "data": {
      "text/html": [
       "<div>\n",
       "<style scoped>\n",
       "    .dataframe tbody tr th:only-of-type {\n",
       "        vertical-align: middle;\n",
       "    }\n",
       "\n",
       "    .dataframe tbody tr th {\n",
       "        vertical-align: top;\n",
       "    }\n",
       "\n",
       "    .dataframe thead th {\n",
       "        text-align: right;\n",
       "    }\n",
       "</style>\n",
       "<table border=\"1\" class=\"dataframe\">\n",
       "  <thead>\n",
       "    <tr style=\"text-align: right;\">\n",
       "      <th></th>\n",
       "      <th>index</th>\n",
       "      <th>0</th>\n",
       "    </tr>\n",
       "  </thead>\n",
       "  <tbody>\n",
       "    <tr>\n",
       "      <th>0</th>\n",
       "      <td>ingredient1</td>\n",
       "      <td>Shiro Wat</td>\n",
       "    </tr>\n",
       "    <tr>\n",
       "      <th>1</th>\n",
       "      <td>ingredient2</td>\n",
       "      <td>Miser Wat</td>\n",
       "    </tr>\n",
       "    <tr>\n",
       "      <th>2</th>\n",
       "      <td>ingredient3</td>\n",
       "      <td>Key Sire Alicha</td>\n",
       "    </tr>\n",
       "    <tr>\n",
       "      <th>3</th>\n",
       "      <td>ingredient4</td>\n",
       "      <td>Fosolia</td>\n",
       "    </tr>\n",
       "    <tr>\n",
       "      <th>4</th>\n",
       "      <td>ingredients</td>\n",
       "      <td>[1, 2, 3]</td>\n",
       "    </tr>\n",
       "  </tbody>\n",
       "</table>\n",
       "</div>"
      ],
      "text/plain": [
       "         index                0\n",
       "0  ingredient1        Shiro Wat\n",
       "1  ingredient2        Miser Wat\n",
       "2  ingredient3  Key Sire Alicha\n",
       "3  ingredient4          Fosolia\n",
       "4  ingredients        [1, 2, 3]"
      ]
     },
     "execution_count": 106,
     "metadata": {},
     "output_type": "execute_result"
    }
   ],
   "source": [
    "df1= df.reset_index()\n",
    "df1"
   ]
  },
  {
   "cell_type": "code",
   "execution_count": 107,
   "metadata": {},
   "outputs": [
    {
     "data": {
      "text/html": [
       "<div>\n",
       "<style scoped>\n",
       "    .dataframe tbody tr th:only-of-type {\n",
       "        vertical-align: middle;\n",
       "    }\n",
       "\n",
       "    .dataframe tbody tr th {\n",
       "        vertical-align: top;\n",
       "    }\n",
       "\n",
       "    .dataframe thead th {\n",
       "        text-align: right;\n",
       "    }\n",
       "</style>\n",
       "<table border=\"1\" class=\"dataframe\">\n",
       "  <thead>\n",
       "    <tr style=\"text-align: right;\">\n",
       "      <th></th>\n",
       "      <th>key</th>\n",
       "      <th>value</th>\n",
       "    </tr>\n",
       "  </thead>\n",
       "  <tbody>\n",
       "    <tr>\n",
       "      <th>0</th>\n",
       "      <td>ingredient1</td>\n",
       "      <td>Shiro Wat</td>\n",
       "    </tr>\n",
       "    <tr>\n",
       "      <th>1</th>\n",
       "      <td>ingredient2</td>\n",
       "      <td>Miser Wat</td>\n",
       "    </tr>\n",
       "    <tr>\n",
       "      <th>2</th>\n",
       "      <td>ingredient3</td>\n",
       "      <td>Key Sire Alicha</td>\n",
       "    </tr>\n",
       "    <tr>\n",
       "      <th>3</th>\n",
       "      <td>ingredient4</td>\n",
       "      <td>Fosolia</td>\n",
       "    </tr>\n",
       "    <tr>\n",
       "      <th>4</th>\n",
       "      <td>ingredients</td>\n",
       "      <td>[1, 2, 3]</td>\n",
       "    </tr>\n",
       "  </tbody>\n",
       "</table>\n",
       "</div>"
      ],
      "text/plain": [
       "           key            value\n",
       "0  ingredient1        Shiro Wat\n",
       "1  ingredient2        Miser Wat\n",
       "2  ingredient3  Key Sire Alicha\n",
       "3  ingredient4          Fosolia\n",
       "4  ingredients        [1, 2, 3]"
      ]
     },
     "execution_count": 107,
     "metadata": {},
     "output_type": "execute_result"
    }
   ],
   "source": [
    "df2 = df1.rename(columns={'index': 'key', 0: 'value'})\n",
    "df2"
   ]
  },
  {
   "cell_type": "code",
   "execution_count": 132,
   "metadata": {},
   "outputs": [],
   "source": [
    "df2.iloc[2]['value'] = 'Kitfo'"
   ]
  },
  {
   "cell_type": "code",
   "execution_count": 148,
   "metadata": {},
   "outputs": [],
   "source": [
    "# df2['value'][1] = 'Miser'\n",
    "df2['value'][0] = df2['value'][0].split(' ')[0] # 'Shrio'"
   ]
  },
  {
   "cell_type": "code",
   "execution_count": 149,
   "metadata": {},
   "outputs": [
    {
     "data": {
      "text/html": [
       "<div>\n",
       "<style scoped>\n",
       "    .dataframe tbody tr th:only-of-type {\n",
       "        vertical-align: middle;\n",
       "    }\n",
       "\n",
       "    .dataframe tbody tr th {\n",
       "        vertical-align: top;\n",
       "    }\n",
       "\n",
       "    .dataframe thead th {\n",
       "        text-align: right;\n",
       "    }\n",
       "</style>\n",
       "<table border=\"1\" class=\"dataframe\">\n",
       "  <thead>\n",
       "    <tr style=\"text-align: right;\">\n",
       "      <th></th>\n",
       "      <th>key</th>\n",
       "      <th>value</th>\n",
       "    </tr>\n",
       "  </thead>\n",
       "  <tbody>\n",
       "    <tr>\n",
       "      <th>0</th>\n",
       "      <td>ingredient1</td>\n",
       "      <td>Shiro</td>\n",
       "    </tr>\n",
       "    <tr>\n",
       "      <th>1</th>\n",
       "      <td>ingredient2</td>\n",
       "      <td>Miser</td>\n",
       "    </tr>\n",
       "    <tr>\n",
       "      <th>2</th>\n",
       "      <td>ingredient3</td>\n",
       "      <td>Kitfo</td>\n",
       "    </tr>\n",
       "    <tr>\n",
       "      <th>3</th>\n",
       "      <td>ingredient4</td>\n",
       "      <td>Kurt</td>\n",
       "    </tr>\n",
       "    <tr>\n",
       "      <th>4</th>\n",
       "      <td>ingredients</td>\n",
       "      <td>[1, 2, 3]</td>\n",
       "    </tr>\n",
       "  </tbody>\n",
       "</table>\n",
       "</div>"
      ],
      "text/plain": [
       "           key      value\n",
       "0  ingredient1      Shiro\n",
       "1  ingredient2      Miser\n",
       "2  ingredient3      Kitfo\n",
       "3  ingredient4       Kurt\n",
       "4  ingredients  [1, 2, 3]"
      ]
     },
     "execution_count": 149,
     "metadata": {},
     "output_type": "execute_result"
    }
   ],
   "source": [
    "df2"
   ]
  },
  {
   "cell_type": "code",
   "execution_count": null,
   "metadata": {},
   "outputs": [],
   "source": [
    "\"\"\"\n",
    "UPDATE df\n",
    "set value = 'kifo'\n",
    "where \n",
    "\n",
    "(select value\n",
    "from df \n",
    "where value = 'Key Sire Alicha') \n",
    "\"\"\""
   ]
  },
  {
   "cell_type": "markdown",
   "metadata": {},
   "source": [
    "### Reflection:\n",
    "\n",
    "What do you think of this exercise?"
   ]
  }
 ],
 "metadata": {
  "kernelspec": {
   "display_name": "Python 3.9.7 ('base')",
   "language": "python",
   "name": "python3"
  },
  "language_info": {
   "codemirror_mode": {
    "name": "ipython",
    "version": 3
   },
   "file_extension": ".py",
   "mimetype": "text/x-python",
   "name": "python",
   "nbconvert_exporter": "python",
   "pygments_lexer": "ipython3",
   "version": "3.9.7"
  },
  "vscode": {
   "interpreter": {
    "hash": "cd0f3f1cef4a370d927ed842e03ad8243c54277f7408c0e067eaaa06f4980199"
   }
  }
 },
 "nbformat": 4,
 "nbformat_minor": 2
}
