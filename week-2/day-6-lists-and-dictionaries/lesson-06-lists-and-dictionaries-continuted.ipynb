{
 "cells": [
  {
   "cell_type": "markdown",
   "metadata": {},
   "source": [
    "### Yummy... Ethiopian Vegi Combination Platter. aka Yetsom Beyaynetu\n",
    "<img src=\"images/Ethiopian-vegi-combo.png\" style=\"width:1000px;height:550px\"/>\n",
    "<!-- ![](images/Ethiopian-vegi-combo.png) -->"
   ]
  },
  {
   "cell_type": "markdown",
   "metadata": {},
   "source": [
    "#### Ethiopian vegi combo can be multiple ingredients and choices\n",
    "\n",
    "We want to write a script that can combine everyone's vegi como platter into one data collection and print each item for the restaurant. \n",
    "\n",
    "##### Variable assignment\n",
    "\n",
    "let's start with our first six platter:\n",
    "```python\n",
    "1. \"Shiro Wat\"\n",
    "2. \"Miser Wat\"\n",
    "3. \"Kik Alicha\"\n",
    "4. \"Gomen\"\n",
    "5. \"Dinich ena Carrot Alicha\"\n",
    "6. \"Key Sire Alicha\"\n",
    "7. \"Fossolia\"\n",
    "8. \"Timatim Salata\"\n",
    "9. \"Ethiopian Injera\"\n",
    "10. \"Injera\"\n",
    "```"
   ]
  },
  {
   "cell_type": "markdown",
   "metadata": {},
   "source": [
    "Two Ethiopian buddies are catching up after a long time and they decided to go for vegi combo. They sat in the corner of the restaurant and they ordered a six platter."
   ]
  },
  {
   "cell_type": "code",
   "execution_count": 3,
   "metadata": {},
   "outputs": [
    {
     "data": {
      "text/plain": [
       "['Shiro Wat',\n",
       " 'Miser Wat',\n",
       " 'Kik Alicha',\n",
       " 'Gomen',\n",
       " 'Key Sire Alicha',\n",
       " 'Timatim Salata',\n",
       " 'Injera']"
      ]
     },
     "execution_count": 3,
     "metadata": {},
     "output_type": "execute_result"
    }
   ],
   "source": [
    "six_platter = [\"Shiro Wat\", \"Miser Wat\", \"Kik Alicha\", \"Gomen\", \"Key Sire Alicha\", \"Timatim Salata\", \"Injera\"]\n",
    "six_platter"
   ]
  },
  {
   "cell_type": "markdown",
   "metadata": {},
   "source": [
    "A humble waitress asked them if they wanted anything else. They told her they wanted `\"Seneg\"`. Let's add it "
   ]
  },
  {
   "cell_type": "code",
   "execution_count": 4,
   "metadata": {},
   "outputs": [
    {
     "data": {
      "text/plain": [
       "['Shiro Wat',\n",
       " 'Miser Wat',\n",
       " 'Kik Alicha',\n",
       " 'Gomen',\n",
       " 'Key Sire Alicha',\n",
       " 'Timatim Salata',\n",
       " 'Injera',\n",
       " 'Karya Seneg']"
      ]
     },
     "execution_count": 4,
     "metadata": {},
     "output_type": "execute_result"
    }
   ],
   "source": [
    "six_platter.append(\"Karya Seneg\")\n",
    "six_platter"
   ]
  },
  {
   "cell_type": "code",
   "execution_count": 5,
   "metadata": {},
   "outputs": [
    {
     "data": {
      "text/plain": [
       "['Shiro Wat',\n",
       " 'Awaze',\n",
       " 'Miser Wat',\n",
       " 'Kik Alicha',\n",
       " 'Gomen',\n",
       " 'Key Sire Alicha',\n",
       " 'Timatim Salata',\n",
       " 'Injera',\n",
       " 'Karya Seneg']"
      ]
     },
     "execution_count": 5,
     "metadata": {},
     "output_type": "execute_result"
    }
   ],
   "source": [
    "# or we can insert at paricular index \n",
    "six_platter.insert(1,\"Awaze\")\n",
    "six_platter"
   ]
  },
  {
   "cell_type": "markdown",
   "metadata": {},
   "source": [
    "As the waiterss turn around and start heading to the kitchen, one of their good buddies called and asked where they at. They told me they are about to order a vegi combo. He asked them to upgrade it to a ten platter. "
   ]
  },
  {
   "cell_type": "code",
   "execution_count": 6,
   "metadata": {},
   "outputs": [
    {
     "data": {
      "text/plain": [
       "['Shiro Wat',\n",
       " 'Awaze',\n",
       " 'Miser Wat',\n",
       " 'Kik Alicha',\n",
       " 'Gomen',\n",
       " 'Key Sire Alicha',\n",
       " 'Timatim Salata',\n",
       " 'Injera',\n",
       " 'Karya Seneg',\n",
       " 'Fosolia',\n",
       " 'Dinich ena Carrot Alicha',\n",
       " 'Shiro Firfir',\n",
       " 'Timatim Salata']"
      ]
     },
     "execution_count": 6,
     "metadata": {},
     "output_type": "execute_result"
    }
   ],
   "source": [
    "six_platter.extend([\"Fosolia\",\"Dinich ena Carrot Alicha\",\"Shiro Firfir\",\"Timatim Salata\"])\n",
    "ten_platter = six_platter\n",
    "ten_platter"
   ]
  },
  {
   "cell_type": "markdown",
   "metadata": {},
   "source": [
    "opps they forgot to order the lunch with `\"Ethiopian Ingera\"`. Let's substitute it now."
   ]
  },
  {
   "cell_type": "code",
   "execution_count": 7,
   "metadata": {},
   "outputs": [
    {
     "data": {
      "text/plain": [
       "7"
      ]
     },
     "execution_count": 7,
     "metadata": {},
     "output_type": "execute_result"
    }
   ],
   "source": [
    "i = ten_platter.index('Injera')\n",
    "i\n",
    "# ten_platter.remove(\"Injera\")\n",
    "# ten_platter= list(map(lambda x: x.replace('Injera', '\"Ethiopian Ingera\"'), ten_platter))\n"
   ]
  },
  {
   "cell_type": "code",
   "execution_count": null,
   "metadata": {},
   "outputs": [],
   "source": [
    "ten_platter[i] = \"Ethiopian Ingera\"\n",
    "# ten_platter.append(\"Ethiopian Ingera\")\n",
    "ten_platter"
   ]
  },
  {
   "cell_type": "markdown",
   "metadata": {},
   "source": [
    "Let's sort our order "
   ]
  },
  {
   "cell_type": "code",
   "execution_count": 8,
   "metadata": {},
   "outputs": [
    {
     "data": {
      "text/plain": [
       "['Awaze',\n",
       " 'Dinich ena Carrot Alicha',\n",
       " 'Fosolia',\n",
       " 'Gomen',\n",
       " 'Injera',\n",
       " 'Karya Seneg',\n",
       " 'Key Sire Alicha',\n",
       " 'Kik Alicha',\n",
       " 'Miser Wat',\n",
       " 'Shiro Firfir',\n",
       " 'Shiro Wat',\n",
       " 'Timatim Salata',\n",
       " 'Timatim Salata']"
      ]
     },
     "execution_count": 8,
     "metadata": {},
     "output_type": "execute_result"
    }
   ],
   "source": [
    "ten_platter.sort()\n",
    "ten_platter"
   ]
  },
  {
   "cell_type": "code",
   "execution_count": null,
   "metadata": {},
   "outputs": [],
   "source": [
    "ten_platter.pop()\n",
    "ten_platter"
   ]
  },
  {
   "cell_type": "code",
   "execution_count": null,
   "metadata": {},
   "outputs": [],
   "source": [
    "ten_platter.remove(\"Shiro Firfir\")\n",
    "ten_platter"
   ]
  },
  {
   "cell_type": "code",
   "execution_count": null,
   "metadata": {},
   "outputs": [],
   "source": [
    "len(ten_platter)"
   ]
  },
  {
   "cell_type": "markdown",
   "metadata": {},
   "source": [
    "Let's do some more indexing"
   ]
  },
  {
   "cell_type": "code",
   "execution_count": null,
   "metadata": {},
   "outputs": [],
   "source": [
    "ten_platter[2]"
   ]
  },
  {
   "cell_type": "markdown",
   "metadata": {},
   "source": [
    "okay... now let us build our favorite choises"
   ]
  },
  {
   "cell_type": "code",
   "execution_count": null,
   "metadata": {},
   "outputs": [],
   "source": [
    "my_choices = list([ten_platter[1],ten_platter[3],ten_platter[-2]])\n",
    "my_choices"
   ]
  },
  {
   "cell_type": "code",
   "execution_count": null,
   "metadata": {},
   "outputs": [],
   "source": [
    "my_favorite = (\"My favorite choices are: \" + \n",
    "    \", \".join(my_choices[:-1]) + \n",
    "    \", and \" + my_choices[-1] + '.')\n",
    "my_favorite"
   ]
  },
  {
   "cell_type": "markdown",
   "metadata": {},
   "source": [
    "returning results by skiping two from the list "
   ]
  },
  {
   "cell_type": "code",
   "execution_count": null,
   "metadata": {},
   "outputs": [],
   "source": [
    "ten_platter[::3]"
   ]
  },
  {
   "cell_type": "code",
   "execution_count": null,
   "metadata": {},
   "outputs": [],
   "source": [
    "ten_platter[-2:]"
   ]
  },
  {
   "cell_type": "markdown",
   "metadata": {},
   "source": [
    "## Breakout \n",
    "############# START ##############"
   ]
  },
  {
   "cell_type": "code",
   "execution_count": null,
   "metadata": {},
   "outputs": [],
   "source": [
    "# create your one three list of favorit items and return your result as \n",
    "# 'My favorite choices are: Dinich ena Carrot Alicha, Fosolia, and Shiro Wat.'b"
   ]
  },
  {
   "cell_type": "code",
   "execution_count": 9,
   "metadata": {},
   "outputs": [
    {
     "data": {
      "text/plain": [
       "['Shiro Wat', 'Awaze', 'Shiro Firfir']"
      ]
     },
     "execution_count": 9,
     "metadata": {},
     "output_type": "execute_result"
    }
   ],
   "source": [
    "our_choices = list([ten_platter[-3],ten_platter[0],ten_platter[-4]])\n",
    "our_choices"
   ]
  },
  {
   "cell_type": "code",
   "execution_count": 11,
   "metadata": {},
   "outputs": [
    {
     "data": {
      "text/plain": [
       "'My favorite choices are: Shiro Wat, Awaze, and Shiro Firfir.'"
      ]
     },
     "execution_count": 11,
     "metadata": {},
     "output_type": "execute_result"
    }
   ],
   "source": [
    "our_favorite = (\"My favorite choices are: \" + \n",
    "    \", \".join(our_choices[:-1]) + \n",
    "    \", and \" + our_choices[-1] + '.')\n",
    "our_favorite"
   ]
  },
  {
   "cell_type": "markdown",
   "metadata": {},
   "source": [
    "############# STOP ##############"
   ]
  },
  {
   "cell_type": "code",
   "execution_count": null,
   "metadata": {},
   "outputs": [],
   "source": [
    "# ten_platter.clear()\n",
    "# ten_platter"
   ]
  },
  {
   "cell_type": "code",
   "execution_count": null,
   "metadata": {},
   "outputs": [],
   "source": [
    "# del ten_platter"
   ]
  },
  {
   "cell_type": "code",
   "execution_count": null,
   "metadata": {},
   "outputs": [],
   "source": [
    "ten_platter"
   ]
  },
  {
   "cell_type": "markdown",
   "metadata": {},
   "source": [
    "## Dictionaries"
   ]
  },
  {
   "cell_type": "markdown",
   "metadata": {},
   "source": [
    "Dictionaries let you assign **key** and **value** pairs. \n",
    "\n",
    "Rather than using **indexing** you use **keys** to return values.\n",
    "\n",
    "```python\n",
    "vegi_combo_dict = {'ingredient1': 'Shiro Wat', 'ingredient2': 'Miser Wat', 'ingredient3': 'Key Sire Alicha'}\n",
    "```\n",
    "To get an element in the dictionary:\n",
    "```python\n",
    "print(vegi_combo_dict['ingredient2'])\n",
    "```\n",
    "\n",
    "Update your vegi_combo_dict to be a dictionary. Make sure to run `type()` on your dictionary to confirm it is successful."
   ]
  },
  {
   "cell_type": "markdown",
   "metadata": {},
   "source": [
    "Strings can contain numbers as well. It may look like 42, but it if it wrapped with `'42'`, then it is a string. See the difference below."
   ]
  },
  {
   "cell_type": "code",
   "execution_count": 1,
   "metadata": {},
   "outputs": [],
   "source": [
    "vegi_combo_dict = {'ingredient1': 'Shiro Wat', 'ingredient2': 'Miser Wat', 'ingredient3': 'Key Sire Alicha'}"
   ]
  },
  {
   "cell_type": "code",
   "execution_count": 2,
   "metadata": {},
   "outputs": [],
   "source": [
    "vegi_combo_dict['ingredient4'] = 'Fosolia'"
   ]
  },
  {
   "cell_type": "code",
   "execution_count": 3,
   "metadata": {},
   "outputs": [
    {
     "data": {
      "text/plain": [
       "{'ingredient1': 'Shiro Wat',\n",
       " 'ingredient2': 'Miser Wat',\n",
       " 'ingredient3': 'Key Sire Alicha',\n",
       " 'ingredient4': 'Fosolia',\n",
       " 'ingredients': ['1', '2', '3']}"
      ]
     },
     "execution_count": 3,
     "metadata": {},
     "output_type": "execute_result"
    }
   ],
   "source": [
    "vegi_combo_dict['ingredients'] = ['1','2','3']\n",
    "vegi_combo_dict"
   ]
  },
  {
   "cell_type": "markdown",
   "metadata": {},
   "source": [
    "Now, to make it even better, you can nest **DICTIONARIES** INSIDE of **LISTS**\n",
    "\n",
    "```python\n",
    "group_lunch = [\n",
    "    {'ingredient1': 'Shiro Wat', 'ingredient2': 'Miser Wat', 'ingredient3': 'Dinich ena Carrot Alicha'}\n",
    "    {'ingredient1': 'Fosolia', 'ingredient2': 'Atkilt Wot', 'ingredient3': 'Gomen'}\n",
    "    {'ingredient1': 'Key Sire Alicha', 'ingredient2': 'Kik Alicha', 'ingredient3': 'Shiro Firfir'}\n",
    "]\n",
    "```\n",
    "\n",
    "try calling elements of group lunch and see what you get!"
   ]
  },
  {
   "cell_type": "code",
   "execution_count": 4,
   "metadata": {},
   "outputs": [],
   "source": [
    "group_lunch = [\n",
    "    {'ingredient1': 'Shiro Wat', 'ingredient2': 'Miser Wat', 'ingredient3': 'Dinich ena Carrot Alicha'},\n",
    "    {'ingredient1': 'Fosolia', 'ingredient2': 'Atkilt Wat', 'ingredient3': 'Gomen'},\n",
    "    {'ingredient1': 'Key Sire Alicha', 'ingredient2': 'Kik Alicha', 'ingredient3': 'Shiro Firfir'}\n",
    "]"
   ]
  },
  {
   "cell_type": "code",
   "execution_count": 5,
   "metadata": {},
   "outputs": [
    {
     "data": {
      "text/plain": [
       "3"
      ]
     },
     "execution_count": 5,
     "metadata": {},
     "output_type": "execute_result"
    }
   ],
   "source": [
    "len(group_lunch)"
   ]
  },
  {
   "cell_type": "code",
   "execution_count": 6,
   "metadata": {},
   "outputs": [
    {
     "data": {
      "text/plain": [
       "{'ingredient1': 'Key Sire Alicha',\n",
       " 'ingredient2': 'Kik Alicha',\n",
       " 'ingredient3': 'Shiro Firfir'}"
      ]
     },
     "execution_count": 6,
     "metadata": {},
     "output_type": "execute_result"
    }
   ],
   "source": [
    "group_lunch[2]"
   ]
  },
  {
   "cell_type": "code",
   "execution_count": 7,
   "metadata": {},
   "outputs": [
    {
     "data": {
      "text/plain": [
       "'Kik Alicha'"
      ]
     },
     "execution_count": 7,
     "metadata": {},
     "output_type": "execute_result"
    }
   ],
   "source": [
    "group_lunch[2]['ingredient2']"
   ]
  },
  {
   "cell_type": "code",
   "execution_count": 8,
   "metadata": {},
   "outputs": [
    {
     "name": "stdout",
     "output_type": "stream",
     "text": [
      "Dinich ena Carrot Alicha\n",
      "Gomen\n",
      "Shiro Firfir\n"
     ]
    }
   ],
   "source": [
    "for lunch in group_lunch:\n",
    "    print(lunch['ingredient3'])"
   ]
  },
  {
   "cell_type": "markdown",
   "metadata": {},
   "source": [
    "replacing the dictionary key"
   ]
  },
  {
   "cell_type": "code",
   "execution_count": 9,
   "metadata": {},
   "outputs": [
    {
     "data": {
      "text/plain": [
       "{'ingredient1': 'Shiro Wat',\n",
       " 'ingredient2': 'Miser Wat',\n",
       " 'ingredient3': 'Key Sire Alicha',\n",
       " 'ingredient4': 'Fosolia',\n",
       " 'ingredients': ['1', '2', '3']}"
      ]
     },
     "execution_count": 9,
     "metadata": {},
     "output_type": "execute_result"
    }
   ],
   "source": [
    "temp = vegi_combo_dict.copy()\n",
    "temp"
   ]
  },
  {
   "cell_type": "code",
   "execution_count": 10,
   "metadata": {},
   "outputs": [
    {
     "ename": "RuntimeError",
     "evalue": "dictionary keys changed during iteration",
     "output_type": "error",
     "traceback": [
      "\u001b[0;31m---------------------------------------------------------------------------\u001b[0m",
      "\u001b[0;31mRuntimeError\u001b[0m                              Traceback (most recent call last)",
      "\u001b[0;32m/var/folders/q4/y7xqp5c55f3c58vcqh3nb1q80000gn/T/ipykernel_39966/67440548.py\u001b[0m in \u001b[0;36m<module>\u001b[0;34m\u001b[0m\n\u001b[0;32m----> 1\u001b[0;31m \u001b[0;32mfor\u001b[0m \u001b[0mi\u001b[0m\u001b[0;34m,\u001b[0m \u001b[0;34m(\u001b[0m\u001b[0mkey\u001b[0m\u001b[0;34m,\u001b[0m \u001b[0mvalue\u001b[0m\u001b[0;34m)\u001b[0m \u001b[0;32min\u001b[0m \u001b[0menumerate\u001b[0m\u001b[0;34m(\u001b[0m\u001b[0mtemp\u001b[0m\u001b[0;34m.\u001b[0m\u001b[0mitems\u001b[0m\u001b[0;34m(\u001b[0m\u001b[0;34m)\u001b[0m\u001b[0;34m)\u001b[0m\u001b[0;34m:\u001b[0m\u001b[0;34m\u001b[0m\u001b[0;34m\u001b[0m\u001b[0m\n\u001b[0m\u001b[1;32m      2\u001b[0m     \u001b[0mindex\u001b[0m \u001b[0;34m=\u001b[0m \u001b[0;34m'index_'\u001b[0m \u001b[0;34m+\u001b[0m \u001b[0mstr\u001b[0m\u001b[0;34m(\u001b[0m\u001b[0mi\u001b[0m\u001b[0;34m)\u001b[0m\u001b[0;34m\u001b[0m\u001b[0;34m\u001b[0m\u001b[0m\n\u001b[1;32m      3\u001b[0m     \u001b[0mtemp\u001b[0m\u001b[0;34m[\u001b[0m\u001b[0mindex\u001b[0m\u001b[0;34m]\u001b[0m \u001b[0;34m=\u001b[0m \u001b[0mtemp\u001b[0m\u001b[0;34m.\u001b[0m\u001b[0mpop\u001b[0m\u001b[0;34m(\u001b[0m\u001b[0mkey\u001b[0m\u001b[0;34m)\u001b[0m\u001b[0;34m\u001b[0m\u001b[0;34m\u001b[0m\u001b[0m\n",
      "\u001b[0;31mRuntimeError\u001b[0m: dictionary keys changed during iteration"
     ]
    }
   ],
   "source": [
    "for i, (key, value) in enumerate(temp.items()):\n",
    "    index = 'index_' + str(i)\n",
    "    temp[index] = temp.pop(key)"
   ]
  },
  {
   "cell_type": "markdown",
   "metadata": {},
   "source": []
  },
  {
   "cell_type": "code",
   "execution_count": null,
   "metadata": {},
   "outputs": [],
   "source": []
  },
  {
   "cell_type": "code",
   "execution_count": 11,
   "metadata": {},
   "outputs": [
    {
     "data": {
      "text/plain": [
       "{'ingredient2': 'Miser Wat',\n",
       " 'index_1': 'Key Sire Alicha',\n",
       " 'index_2': 'Fosolia',\n",
       " 'index_3': ['1', '2', '3'],\n",
       " 'index_4': 'Shiro Wat'}"
      ]
     },
     "execution_count": 11,
     "metadata": {},
     "output_type": "execute_result"
    }
   ],
   "source": [
    "temp"
   ]
  },
  {
   "cell_type": "markdown",
   "metadata": {},
   "source": [
    "<!-- ![](images/python-error.png) -->\n",
    "<img src=\"images/python-error.png\" style=\"width:700px;height:550px\"/>"
   ]
  },
  {
   "cell_type": "code",
   "execution_count": 12,
   "metadata": {},
   "outputs": [],
   "source": [
    "for i, (key, value) in enumerate(list(temp.items())):\n",
    "    index = 'index_' + str(i)\n",
    "    temp[index] = temp.pop(key)"
   ]
  },
  {
   "cell_type": "code",
   "execution_count": 13,
   "metadata": {},
   "outputs": [
    {
     "data": {
      "text/plain": [
       "{'index_0': 'Miser Wat',\n",
       " 'index_1': 'Key Sire Alicha',\n",
       " 'index_2': 'Fosolia',\n",
       " 'index_3': ['1', '2', '3'],\n",
       " 'index_4': 'Shiro Wat'}"
      ]
     },
     "execution_count": 13,
     "metadata": {},
     "output_type": "execute_result"
    }
   ],
   "source": [
    "temp"
   ]
  },
  {
   "cell_type": "code",
   "execution_count": 14,
   "metadata": {},
   "outputs": [
    {
     "data": {
      "text/plain": [
       "{'ingredient1': 'Shiro Wat',\n",
       " 'ingredient2': 'Miser Wat',\n",
       " 'ingredient3': 'Key Sire Alicha',\n",
       " 'ingredient4': 'Fosolia',\n",
       " 'ingredients': ['1', '2', '3']}"
      ]
     },
     "execution_count": 14,
     "metadata": {},
     "output_type": "execute_result"
    }
   ],
   "source": [
    "vegi_combo_dict"
   ]
  },
  {
   "cell_type": "code",
   "execution_count": 15,
   "metadata": {},
   "outputs": [],
   "source": [
    "import pandas as pd"
   ]
  },
  {
   "cell_type": "code",
   "execution_count": 43,
   "metadata": {},
   "outputs": [
    {
     "data": {
      "text/html": [
       "<div>\n",
       "<style scoped>\n",
       "    .dataframe tbody tr th:only-of-type {\n",
       "        vertical-align: middle;\n",
       "    }\n",
       "\n",
       "    .dataframe tbody tr th {\n",
       "        vertical-align: top;\n",
       "    }\n",
       "\n",
       "    .dataframe thead th {\n",
       "        text-align: right;\n",
       "    }\n",
       "</style>\n",
       "<table border=\"1\" class=\"dataframe\">\n",
       "  <thead>\n",
       "    <tr style=\"text-align: right;\">\n",
       "      <th></th>\n",
       "      <th>0</th>\n",
       "    </tr>\n",
       "  </thead>\n",
       "  <tbody>\n",
       "    <tr>\n",
       "      <th>ingredient1</th>\n",
       "      <td>Shiro Wat</td>\n",
       "    </tr>\n",
       "    <tr>\n",
       "      <th>ingredient2</th>\n",
       "      <td>Miser Wat</td>\n",
       "    </tr>\n",
       "    <tr>\n",
       "      <th>ingredient3</th>\n",
       "      <td>Key Sire Alicha</td>\n",
       "    </tr>\n",
       "    <tr>\n",
       "      <th>ingredient4</th>\n",
       "      <td>Fosolia</td>\n",
       "    </tr>\n",
       "    <tr>\n",
       "      <th>ingredients</th>\n",
       "      <td>[1, 2, 3]</td>\n",
       "    </tr>\n",
       "  </tbody>\n",
       "</table>\n",
       "</div>"
      ],
      "text/plain": [
       "                           0\n",
       "ingredient1        Shiro Wat\n",
       "ingredient2        Miser Wat\n",
       "ingredient3  Key Sire Alicha\n",
       "ingredient4          Fosolia\n",
       "ingredients        [1, 2, 3]"
      ]
     },
     "execution_count": 43,
     "metadata": {},
     "output_type": "execute_result"
    }
   ],
   "source": [
    "df = pd.DataFrame.from_dict(vegi_combo_dict, orient='index')\n",
    "df"
   ]
  },
  {
   "cell_type": "code",
   "execution_count": 61,
   "metadata": {},
   "outputs": [],
   "source": [
    "df1= df.reset_index()\n",
    "df2 = df1.rename(columns={'index': 'key', 0: 'value'})"
   ]
  },
  {
   "cell_type": "code",
   "execution_count": 62,
   "metadata": {},
   "outputs": [
    {
     "data": {
      "text/html": [
       "<div>\n",
       "<style scoped>\n",
       "    .dataframe tbody tr th:only-of-type {\n",
       "        vertical-align: middle;\n",
       "    }\n",
       "\n",
       "    .dataframe tbody tr th {\n",
       "        vertical-align: top;\n",
       "    }\n",
       "\n",
       "    .dataframe thead th {\n",
       "        text-align: right;\n",
       "    }\n",
       "</style>\n",
       "<table border=\"1\" class=\"dataframe\">\n",
       "  <thead>\n",
       "    <tr style=\"text-align: right;\">\n",
       "      <th></th>\n",
       "      <th>key</th>\n",
       "      <th>value</th>\n",
       "    </tr>\n",
       "  </thead>\n",
       "  <tbody>\n",
       "    <tr>\n",
       "      <th>0</th>\n",
       "      <td>ingredient1</td>\n",
       "      <td>Shiro Wat</td>\n",
       "    </tr>\n",
       "    <tr>\n",
       "      <th>1</th>\n",
       "      <td>ingredient2</td>\n",
       "      <td>Miser Wat</td>\n",
       "    </tr>\n",
       "    <tr>\n",
       "      <th>2</th>\n",
       "      <td>ingredient3</td>\n",
       "      <td>Key Sire Alicha</td>\n",
       "    </tr>\n",
       "    <tr>\n",
       "      <th>3</th>\n",
       "      <td>ingredient4</td>\n",
       "      <td>Fosolia</td>\n",
       "    </tr>\n",
       "    <tr>\n",
       "      <th>4</th>\n",
       "      <td>ingredients</td>\n",
       "      <td>[1, 2, 3]</td>\n",
       "    </tr>\n",
       "  </tbody>\n",
       "</table>\n",
       "</div>"
      ],
      "text/plain": [
       "           key            value\n",
       "0  ingredient1        Shiro Wat\n",
       "1  ingredient2        Miser Wat\n",
       "2  ingredient3  Key Sire Alicha\n",
       "3  ingredient4          Fosolia\n",
       "4  ingredients        [1, 2, 3]"
      ]
     },
     "execution_count": 62,
     "metadata": {},
     "output_type": "execute_result"
    }
   ],
   "source": [
    "df2"
   ]
  },
  {
   "cell_type": "markdown",
   "metadata": {},
   "source": [
    "### Reflection:\n",
    "\n",
    "What do you think of this exercise?"
   ]
  }
 ],
 "metadata": {
  "kernelspec": {
   "display_name": "Python 3.9.12 ('base')",
   "language": "python",
   "name": "python3"
  },
  "language_info": {
   "codemirror_mode": {
    "name": "ipython",
    "version": 3
   },
   "file_extension": ".py",
   "mimetype": "text/x-python",
   "name": "python",
   "nbconvert_exporter": "python",
   "pygments_lexer": "ipython3",
   "version": "3.9.12"
  },
  "vscode": {
   "interpreter": {
    "hash": "1a00fef59da2b7a9896db7af1997b6a90c9bdb5ca8beb62bd782014832bb0773"
   }
  }
 },
 "nbformat": 4,
 "nbformat_minor": 2
}
